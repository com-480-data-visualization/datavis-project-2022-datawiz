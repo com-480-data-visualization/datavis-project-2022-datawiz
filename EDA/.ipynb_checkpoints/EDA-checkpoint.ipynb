{
 "cells": [
  {
   "cell_type": "markdown",
   "id": "4ceda852-ffa1-4d1f-a1f1-0d3ae04ffca1",
   "metadata": {},
   "source": [
    "# Tour de France Exploratory Data Analysis\n",
    "### Imports"
   ]
  },
  {
   "cell_type": "code",
   "execution_count": 50,
   "id": "1eabb965-9afe-456a-b6aa-57e5be1c3a82",
   "metadata": {},
   "outputs": [],
   "source": [
    "import pandas as pd\n",
    "import matplotlib.pyplot as plt\n",
    "import matplotlib.ticker as ticker\n",
    "import seaborn as sns"
   ]
  },
  {
   "cell_type": "markdown",
   "id": "65750ccf-3523-438d-a411-05570b1a1c67",
   "metadata": {},
   "source": [
    "### Data Loading"
   ]
  },
  {
   "cell_type": "code",
   "execution_count": 42,
   "id": "90e46c5d-b6f0-47a6-930a-c06cdfbb62a1",
   "metadata": {},
   "outputs": [],
   "source": [
    "stage_data = pd.read_csv(\"../data/stage_data.csv\")\n",
    "stages = pd.read_csv(\"../data/tdf_stages.csv\")\n",
    "#Add the year for each stage\n",
    "stages[\"year\"] = stages[\"Date\"].apply(lambda date : date[:4])\n",
    "winners = pd.read_csv(\"../data/tdf_winners.csv\")"
   ]
  },
  {
   "cell_type": "markdown",
   "id": "5c8bfc18-6ba1-431b-9313-c4046951d9c5",
   "metadata": {},
   "source": [
    "### Number of Tours de France"
   ]
  },
  {
   "cell_type": "code",
   "execution_count": 15,
   "id": "b1a0c84a-2e1c-4b45-9470-901f1c10cebb",
   "metadata": {},
   "outputs": [
    {
     "data": {
      "text/plain": [
       "106"
      ]
     },
     "execution_count": 15,
     "metadata": {},
     "output_type": "execute_result"
    }
   ],
   "source": [
    "len(winners)"
   ]
  },
  {
   "cell_type": "markdown",
   "id": "7bef5b45-1721-4c6f-bcf4-3c40ceca5186",
   "metadata": {},
   "source": [
    "### Number of unique riders"
   ]
  },
  {
   "cell_type": "code",
   "execution_count": 71,
   "id": "a55a0ec6-c954-43f5-a80d-3e3a1f659d89",
   "metadata": {},
   "outputs": [
    {
     "data": {
      "text/plain": [
       "5162"
      ]
     },
     "execution_count": 71,
     "metadata": {},
     "output_type": "execute_result"
    }
   ],
   "source": [
    "len(set(stage_data.rider))"
   ]
  },
  {
   "cell_type": "markdown",
   "id": "23d1ec7a-2b4e-48dc-a96d-b26c40cda887",
   "metadata": {},
   "source": [
    "### Number of stage locations"
   ]
  },
  {
   "cell_type": "code",
   "execution_count": 76,
   "id": "aa8a1309-f2c1-4da7-9e52-65342f24ea7a",
   "metadata": {},
   "outputs": [
    {
     "data": {
      "text/plain": [
       "756"
      ]
     },
     "execution_count": 76,
     "metadata": {},
     "output_type": "execute_result"
    }
   ],
   "source": [
    "len(set(stages.Destination).union(set(stages.Origin)))"
   ]
  },
  {
   "cell_type": "markdown",
   "id": "0ae09b49-adaf-4670-9f79-9d3c6f247393",
   "metadata": {},
   "source": [
    "### Number of winners per country"
   ]
  },
  {
   "cell_type": "code",
   "execution_count": 93,
   "id": "f145caef-3a77-4344-a4f5-56b2d34877f9",
   "metadata": {},
   "outputs": [
    {
     "data": {
      "text/html": [
       "<div>\n",
       "<style scoped>\n",
       "    .dataframe tbody tr th:only-of-type {\n",
       "        vertical-align: middle;\n",
       "    }\n",
       "\n",
       "    .dataframe tbody tr th {\n",
       "        vertical-align: top;\n",
       "    }\n",
       "\n",
       "    .dataframe thead th {\n",
       "        text-align: right;\n",
       "    }\n",
       "</style>\n",
       "<table border=\"1\" class=\"dataframe\">\n",
       "  <thead>\n",
       "    <tr style=\"text-align: right;\">\n",
       "      <th></th>\n",
       "      <th>index</th>\n",
       "      <th>nationality</th>\n",
       "    </tr>\n",
       "  </thead>\n",
       "  <tbody>\n",
       "    <tr>\n",
       "      <th>0</th>\n",
       "      <td>France</td>\n",
       "      <td>36</td>\n",
       "    </tr>\n",
       "    <tr>\n",
       "      <th>1</th>\n",
       "      <td>Belgium</td>\n",
       "      <td>18</td>\n",
       "    </tr>\n",
       "    <tr>\n",
       "      <th>2</th>\n",
       "      <td>Spain</td>\n",
       "      <td>12</td>\n",
       "    </tr>\n",
       "    <tr>\n",
       "      <th>3</th>\n",
       "      <td>Italy</td>\n",
       "      <td>10</td>\n",
       "    </tr>\n",
       "    <tr>\n",
       "      <th>4</th>\n",
       "      <td>United States</td>\n",
       "      <td>10</td>\n",
       "    </tr>\n",
       "    <tr>\n",
       "      <th>5</th>\n",
       "      <td>Great Britain</td>\n",
       "      <td>6</td>\n",
       "    </tr>\n",
       "    <tr>\n",
       "      <th>6</th>\n",
       "      <td>Luxembourg</td>\n",
       "      <td>5</td>\n",
       "    </tr>\n",
       "    <tr>\n",
       "      <th>7</th>\n",
       "      <td>Switzerland</td>\n",
       "      <td>2</td>\n",
       "    </tr>\n",
       "    <tr>\n",
       "      <th>8</th>\n",
       "      <td>Netherlands</td>\n",
       "      <td>2</td>\n",
       "    </tr>\n",
       "    <tr>\n",
       "      <th>9</th>\n",
       "      <td>Ireland</td>\n",
       "      <td>1</td>\n",
       "    </tr>\n",
       "    <tr>\n",
       "      <th>10</th>\n",
       "      <td>Denmark</td>\n",
       "      <td>1</td>\n",
       "    </tr>\n",
       "    <tr>\n",
       "      <th>11</th>\n",
       "      <td>Germany</td>\n",
       "      <td>1</td>\n",
       "    </tr>\n",
       "    <tr>\n",
       "      <th>12</th>\n",
       "      <td>Australia</td>\n",
       "      <td>1</td>\n",
       "    </tr>\n",
       "    <tr>\n",
       "      <th>13</th>\n",
       "      <td>Colombia</td>\n",
       "      <td>1</td>\n",
       "    </tr>\n",
       "  </tbody>\n",
       "</table>\n",
       "</div>"
      ],
      "text/plain": [
       "             index  nationality\n",
       "0           France           36\n",
       "1          Belgium           18\n",
       "2            Spain           12\n",
       "3            Italy           10\n",
       "4    United States           10\n",
       "5    Great Britain            6\n",
       "6       Luxembourg            5\n",
       "7      Switzerland            2\n",
       "8      Netherlands            2\n",
       "9          Ireland            1\n",
       "10         Denmark            1\n",
       "11         Germany            1\n",
       "12       Australia            1\n",
       "13        Colombia            1"
      ]
     },
     "execution_count": 93,
     "metadata": {},
     "output_type": "execute_result"
    }
   ],
   "source": [
    "winners_nat = pd.DataFrame(winners.nationality.value_counts()).reset_index()\n",
    "winners_nat"
   ]
  },
  {
   "cell_type": "code",
   "execution_count": 98,
   "id": "d812587e-a611-4b0f-adc2-ff6d4675e6d2",
   "metadata": {},
   "outputs": [
    {
     "data": {
      "text/plain": [
       "[Text(0.5, 0, 'Country'),\n",
       " Text(0, 0.5, 'Number of TDF wins'),\n",
       " Text(0.5, 1.0, 'Number of TDF wins per country')]"
      ]
     },
     "execution_count": 98,
     "metadata": {},
     "output_type": "execute_result"
    },
    {
     "data": {
      "image/png": "[encoded data removed]",
      "text/plain": [
       "<Figure size 1296x360 with 1 Axes>"
      ]
     },
     "metadata": {
      "needs_background": "light"
     },
     "output_type": "display_data"
    }
   ],
   "source": [
    "plt.figure(figsize=(18,5))\n",
    "plot = sns.barplot(data=winners_nat, x=\"index\", y=\"nationality\")\n",
    "plot.set(xlabel=\"Country\", ylabel=\"Number of TDF wins\", title=\"Number of TDF wins per country\")"
   ]
  },
  {
   "cell_type": "code",
   "execution_count": 119,
   "id": "1ea2347f-de44-47a5-80ce-a42ba710a3ed",
   "metadata": {},
   "outputs": [
    {
     "data": {
      "text/html": [
       "<div>\n",
       "<style scoped>\n",
       "    .dataframe tbody tr th:only-of-type {\n",
       "        vertical-align: middle;\n",
       "    }\n",
       "\n",
       "    .dataframe tbody tr th {\n",
       "        vertical-align: top;\n",
       "    }\n",
       "\n",
       "    .dataframe thead th {\n",
       "        text-align: right;\n",
       "    }\n",
       "</style>\n",
       "<table border=\"1\" class=\"dataframe\">\n",
       "  <thead>\n",
       "    <tr style=\"text-align: right;\">\n",
       "      <th></th>\n",
       "      <th>Distance</th>\n",
       "    </tr>\n",
       "    <tr>\n",
       "      <th>year</th>\n",
       "      <th></th>\n",
       "    </tr>\n",
       "  </thead>\n",
       "  <tbody>\n",
       "    <tr>\n",
       "      <th>1903</th>\n",
       "      <td>404.666667</td>\n",
       "    </tr>\n",
       "    <tr>\n",
       "      <th>1904</th>\n",
       "      <td>404.833333</td>\n",
       "    </tr>\n",
       "    <tr>\n",
       "      <th>1905</th>\n",
       "      <td>274.636364</td>\n",
       "    </tr>\n",
       "    <tr>\n",
       "      <th>1906</th>\n",
       "      <td>349.461538</td>\n",
       "    </tr>\n",
       "    <tr>\n",
       "      <th>1907</th>\n",
       "      <td>320.571429</td>\n",
       "    </tr>\n",
       "    <tr>\n",
       "      <th>...</th>\n",
       "      <td>...</td>\n",
       "    </tr>\n",
       "    <tr>\n",
       "      <th>2013</th>\n",
       "      <td>162.071429</td>\n",
       "    </tr>\n",
       "    <tr>\n",
       "      <th>2014</th>\n",
       "      <td>174.309524</td>\n",
       "    </tr>\n",
       "    <tr>\n",
       "      <th>2015</th>\n",
       "      <td>160.014286</td>\n",
       "    </tr>\n",
       "    <tr>\n",
       "      <th>2016</th>\n",
       "      <td>168.047619</td>\n",
       "    </tr>\n",
       "    <tr>\n",
       "      <th>2017</th>\n",
       "      <td>168.571429</td>\n",
       "    </tr>\n",
       "  </tbody>\n",
       "</table>\n",
       "<p>104 rows × 1 columns</p>\n",
       "</div>"
      ],
      "text/plain": [
       "        Distance\n",
       "year            \n",
       "1903  404.666667\n",
       "1904  404.833333\n",
       "1905  274.636364\n",
       "1906  349.461538\n",
       "1907  320.571429\n",
       "...          ...\n",
       "2013  162.071429\n",
       "2014  174.309524\n",
       "2015  160.014286\n",
       "2016  168.047619\n",
       "2017  168.571429\n",
       "\n",
       "[104 rows x 1 columns]"
      ]
     },
     "execution_count": 119,
     "metadata": {},
     "output_type": "execute_result"
    }
   ],
   "source": [
    "stages.groupby('year').mean('Distance')"
   ]
  },
  {
   "cell_type": "markdown",
   "id": "b12ef6d7-533c-403e-ac2d-925c5985b2cb",
   "metadata": {},
   "source": [
    "### Stage number and distance in the first and last 10 years"
   ]
  },
  {
   "cell_type": "code",
   "execution_count": 124,
   "id": "9c31f62c-1af3-432a-a3e8-9518a9d2353f",
   "metadata": {},
   "outputs": [
    {
     "name": "stdout",
     "output_type": "stream",
     "text": [
      "Mean number of stages during the first 10 years : 12.3\n",
      "Mean stage distance during the first 10 years : 342.31\n",
      "Mean number of stages during the first 10 years : 21.0\n",
      "Mean stage distance during the first 10 years : 167.05\n"
     ]
    }
   ],
   "source": [
    "print(f\"Mean number of stages during the first 10 years : {stages.groupby('year').size()[:10].mean()}\")\n",
    "print(f\"Mean stage distance during the first 10 years : {stages.groupby('year').mean('Distance')[:10].mean()[0]:.2f}\")\n",
    "print(f\"Mean number of stages during the first 10 years : {stages.groupby('year').size()[-10:].mean()}\")\n",
    "print(f\"Mean stage distance during the first 10 years : {stages.groupby('year').mean('Distance')[-10:].mean()[0]:.2f}\")"
   ]
  },
  {
   "cell_type": "markdown",
   "id": "e8a50309-764a-439e-88a0-bde138710c7a",
   "metadata": {
    "tags": []
   },
   "source": [
    "### Number of stages per TDF"
   ]
  },
  {
   "cell_type": "code",
   "execution_count": 59,
   "id": "8371f7fe-d111-4a1f-90b2-aade083a713f",
   "metadata": {},
   "outputs": [
    {
     "data": {
      "image/png": "[encoded data removed]",
      "text/plain": [
       "<Figure size 432x288 with 1 Axes>"
      ]
     },
     "metadata": {
      "needs_background": "light"
     },
     "output_type": "display_data"
    }
   ],
   "source": [
    "plot = sns.lineplot(data=stages.groupby(\"year\").size())\n",
    "plot.xaxis.set_major_locator(ticker.LinearLocator(10))\n",
    "plot.set(xlabel=\"Year\", ylabel=\"Number of stages\", title=\"Number of stages per TDF\")\n",
    "plt.show()"
   ]
  },
  {
   "cell_type": "markdown",
   "id": "6a84df0b-cce8-4d82-8c24-b754d5cdf23e",
   "metadata": {},
   "source": [
    "### Mean distance of stages per TDF"
   ]
  },
  {
   "cell_type": "code",
   "execution_count": 62,
   "id": "07dfbcb3-f76a-477a-9222-ab9328d67450",
   "metadata": {},
   "outputs": [
    {
     "data": {
      "image/png": "[encoded data removed]",
      "text/plain": [
       "<Figure size 432x288 with 1 Axes>"
      ]
     },
     "metadata": {
      "needs_background": "light"
     },
     "output_type": "display_data"
    }
   ],
   "source": [
    "plot = sns.lineplot(data=stages.groupby(\"year\").mean(\"Distance\"))\n",
    "plot.xaxis.set_major_locator(ticker.LinearLocator(10))\n",
    "plot.set(xlabel=\"Year\", ylabel=\"Mean stage distance (km)\", title=\"Mean stage distance per year\")\n",
    "plt.legend([],[],frameon=False)\n",
    "plt.show()"
   ]
  },
  {
   "cell_type": "markdown",
   "id": "3c3a1e03-80d5-4669-9a93-bb066b1ff3cc",
   "metadata": {},
   "source": [
    "### Number of riders per year"
   ]
  },
  {
   "cell_type": "code",
   "execution_count": 69,
   "id": "b6eed9cb-5e50-42cd-b22b-4ac650159389",
   "metadata": {},
   "outputs": [
    {
     "data": {
      "image/png": "[encoded data removed]",
      "text/plain": [
       "<Figure size 432x288 with 1 Axes>"
      ]
     },
     "metadata": {
      "needs_background": "light"
     },
     "output_type": "display_data"
    }
   ],
   "source": [
    "plot = sns.lineplot(data=stage_data.groupby(\"year\")[\"rider\"].nunique())\n",
    "plot.set(xlabel=\"Year\", ylabel=\"Number of riders\", title=\"Number of riders per year\")\n",
    "plt.show()"
   ]
  },
  {
   "cell_type": "code",
   "execution_count": null,
   "id": "d8e5752c-1deb-42e0-a8e3-c4a478136165",
   "metadata": {},
   "outputs": [],
   "source": [
    "plot = sns.lineplot(data=stages.groupby(\"year\").mean(\"Distance\"))"
   ]
  }
 ],
 "metadata": {
  "kernelspec": {
   "display_name": "Python 3 (ipykernel)",
   "language": "python",
   "name": "python3"
  },
  "language_info": {
   "codemirror_mode": {
    "name": "ipython",
    "version": 3
   },
   "file_extension": ".py",
   "mimetype": "text/x-python",
   "name": "python",
   "nbconvert_exporter": "python",
   "pygments_lexer": "ipython3",
   "version": "3.9.0"
  }
 },
 "nbformat": 4,
 "nbformat_minor": 5
}
